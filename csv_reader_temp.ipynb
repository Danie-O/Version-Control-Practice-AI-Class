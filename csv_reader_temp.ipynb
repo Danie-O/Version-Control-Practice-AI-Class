{
 "cells": [
  {
   "attachments": {},
   "cell_type": "markdown",
   "metadata": {},
   "source": [
    "A Program to do the following: \n",
    "- Read in csv file\n",
    "- Convert to dictionary (keys = authors, values = quotes by authors)"
   ]
  },
  {
   "cell_type": "code",
   "execution_count": 1,
   "metadata": {},
   "outputs": [],
   "source": [
    "# import dependencies\n",
    "import csv\n",
    "import random"
   ]
  },
  {
   "cell_type": "code",
   "execution_count": 9,
   "metadata": {},
   "outputs": [
    {
     "name": "stdout",
     "output_type": "stream",
     "text": [
      "{'quotes': ' author', 'hello world': ' \"ade\"', 'common now': ' \"fola\"'}\n"
     ]
    }
   ],
   "source": [
    "# Function to read in a csv file and return a dictionary\n",
    "\n",
    "filepath = \"\"\n",
    "\n",
    "def csv_to_dict(filepath):\n",
    "    csv_dict = {}\n",
    "    with open(filepath,'r') as file:\n",
    "        csv_dict = csv.reader(file)\n",
    "        csv_dict = {rows[0]:rows[1] for rows in csv_dict}\n",
    "    print(csv_dict)\n",
    "\n",
    "csv_to_dict(filepath)\n"
   ]
  }
 ],
 "metadata": {
  "kernelspec": {
   "display_name": "base",
   "language": "python",
   "name": "python3"
  },
  "language_info": {
   "codemirror_mode": {
    "name": "ipython",
    "version": 3
   },
   "file_extension": ".py",
   "mimetype": "text/x-python",
   "name": "python",
   "nbconvert_exporter": "python",
   "pygments_lexer": "ipython3",
   "version": "3.10.0"
  },
  "orig_nbformat": 4
 },
 "nbformat": 4,
 "nbformat_minor": 2
}
